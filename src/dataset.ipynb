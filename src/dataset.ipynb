{
 "cells": [
  {
   "cell_type": "code",
   "execution_count": 1,
   "metadata": {
    "id": "JjdvWKCTQAvD"
   },
   "outputs": [],
   "source": [
    "import pandas as pd\n",
    "import preprocessor as p\n",
    "from gensim.parsing.preprocessing import remove_stopwords"
   ]
  },
  {
   "cell_type": "code",
   "execution_count": 4,
   "metadata": {
    "id": "xOilI-lGk9uD"
   },
   "outputs": [],
   "source": [
    "df1 = pd.read_csv('../datasets/dataset1.csv')\n",
    "df2 = pd.read_csv('../datasets/dataset2.csv')\n",
    "df3 = pd.read_csv('../datasets/dataset3.csv')\n",
    "df4 = pd.read_csv('../datasets/dataset4.csv')"
   ]
  },
  {
   "cell_type": "code",
   "execution_count": 5,
   "metadata": {
    "id": "bfAw0X0TnTe7"
   },
   "outputs": [],
   "source": [
    "def preprocess_tweet(row):\n",
    "    text = row['text']\n",
    "    text = p.clean(text)\n",
    "    return text\n",
    "\n",
    "def stopword_removal(row):\n",
    "    text = row['text']\n",
    "    text = remove_stopwords(text)\n",
    "    return text"
   ]
  },
  {
   "cell_type": "code",
   "execution_count": 6,
   "metadata": {
    "id": "KmvkBC_JmCi3"
   },
   "outputs": [],
   "source": [
    "df2['text'] = list(df2['tweet'])\n",
    "df3['text'] = list(df3['tweet'])"
   ]
  },
  {
   "cell_type": "code",
   "execution_count": 7,
   "metadata": {
    "id": "DN-pnajdp2mV"
   },
   "outputs": [],
   "source": [
    "label = []\n",
    "for each in df1['hate_speech_score']:\n",
    "  if each > 0.5:\n",
    "    label.append(1)\n",
    "  else:\n",
    "    label.append(0)\n",
    "\n",
    "df1['label'] = label"
   ]
  },
  {
   "cell_type": "code",
   "execution_count": 8,
   "metadata": {
    "id": "kHwUmn2un8ll"
   },
   "outputs": [],
   "source": [
    "label = []\n",
    "for each in df2['class']:\n",
    "  if each < 2:\n",
    "    label.append(1)\n",
    "  else:\n",
    "    label.append(0)\n",
    "\n",
    "df2['label'] = label"
   ]
  },
  {
   "cell_type": "code",
   "execution_count": 11,
   "metadata": {
    "colab": {
     "base_uri": "https://localhost:8080/"
    },
    "id": "TFem1eOip2uy",
    "outputId": "d087ec10-6a77-4fe2-eabc-422df4914678"
   },
   "outputs": [],
   "source": [
    "labellist = []\n",
    "for each in df3.label:\n",
    "  if each == \"hate\":\n",
    "    labellist.append(1)\n",
    "  else:\n",
    "     labellist.append(0)\n",
    "df3 = df3.drop(['label'], axis=1)\n",
    "df3['label'] = labellist"
   ]
  },
  {
   "cell_type": "code",
   "execution_count": 13,
   "metadata": {
    "colab": {
     "base_uri": "https://localhost:8080/"
    },
    "id": "uta1le07rACP",
    "outputId": "cd6ff240-2f07-4bd0-962b-ad3df400bcf2"
   },
   "outputs": [],
   "source": [
    "labellist = []\n",
    "for each in df3.label:\n",
    "  if each == \"hate\":\n",
    "    labellist.append(1)\n",
    "  else:\n",
    "     labellist.append(0)\n",
    "df3 = df3.drop(['label'], axis=1)\n",
    "df3['label'] = labellist"
   ]
  },
  {
   "cell_type": "code",
   "execution_count": 15,
   "metadata": {
    "id": "m1L0NUiTtKOK"
   },
   "outputs": [],
   "source": [
    "df1 = df1[['text', 'label']]\n",
    "df2 = df2[['text', 'label']]\n",
    "df3 = df3[['text', 'label']]\n",
    "df4 = df4[['text', 'label']]"
   ]
  },
  {
   "cell_type": "code",
   "execution_count": 16,
   "metadata": {
    "colab": {
     "base_uri": "https://localhost:8080/",
     "height": 459
    },
    "id": "_uRuXsUcu9Am",
    "outputId": "0ad5e838-0b41-4f10-c6b8-3208fa88d5ea"
   },
   "outputs": [
    {
     "data": {
      "text/html": [
       "<div>\n",
       "<style scoped>\n",
       "    .dataframe tbody tr th:only-of-type {\n",
       "        vertical-align: middle;\n",
       "    }\n",
       "\n",
       "    .dataframe tbody tr th {\n",
       "        vertical-align: top;\n",
       "    }\n",
       "\n",
       "    .dataframe thead th {\n",
       "        text-align: right;\n",
       "    }\n",
       "</style>\n",
       "<table border=\"1\" class=\"dataframe\">\n",
       "  <thead>\n",
       "    <tr style=\"text-align: right;\">\n",
       "      <th></th>\n",
       "      <th>text</th>\n",
       "      <th>label</th>\n",
       "    </tr>\n",
       "  </thead>\n",
       "  <tbody>\n",
       "    <tr>\n",
       "      <th>0</th>\n",
       "      <td>yes sort reminds elder lady played movie titan...</td>\n",
       "      <td>0</td>\n",
       "    </tr>\n",
       "    <tr>\n",
       "      <th>1</th>\n",
       "      <td>trans women reading tweet right beautiful</td>\n",
       "      <td>0</td>\n",
       "    </tr>\n",
       "    <tr>\n",
       "      <th>2</th>\n",
       "      <td>question broads criticize america country flee...</td>\n",
       "      <td>0</td>\n",
       "    </tr>\n",
       "    <tr>\n",
       "      <th>3</th>\n",
       "      <td>time illegals country origin freeway open prev...</td>\n",
       "      <td>0</td>\n",
       "    </tr>\n",
       "    <tr>\n",
       "      <th>4</th>\n",
       "      <td>starters bend pink kick ass pussy taste s begg...</td>\n",
       "      <td>1</td>\n",
       "    </tr>\n",
       "    <tr>\n",
       "      <th>...</th>\n",
       "      <td>...</td>\n",
       "      <td>...</td>\n",
       "    </tr>\n",
       "    <tr>\n",
       "      <th>130308</th>\n",
       "      <td>forcibly remove foreigners</td>\n",
       "      <td>1</td>\n",
       "    </tr>\n",
       "    <tr>\n",
       "      <th>130309</th>\n",
       "      <td>forcibly remove immigrants</td>\n",
       "      <td>1</td>\n",
       "    </tr>\n",
       "    <tr>\n",
       "      <th>130310</th>\n",
       "      <td>dalits unworthy gods love</td>\n",
       "      <td>1</td>\n",
       "    </tr>\n",
       "    <tr>\n",
       "      <th>130311</th>\n",
       "      <td>dalits worthless</td>\n",
       "      <td>1</td>\n",
       "    </tr>\n",
       "    <tr>\n",
       "      <th>130312</th>\n",
       "      <td>dalits deserves treated lowlife</td>\n",
       "      <td>1</td>\n",
       "    </tr>\n",
       "  </tbody>\n",
       "</table>\n",
       "<p>130313 rows × 2 columns</p>\n",
       "</div>"
      ],
      "text/plain": [
       "                                                     text label\n",
       "0       yes sort reminds elder lady played movie titan...     0\n",
       "1               trans women reading tweet right beautiful     0\n",
       "2       question broads criticize america country flee...     0\n",
       "3       time illegals country origin freeway open prev...     0\n",
       "4       starters bend pink kick ass pussy taste s begg...     1\n",
       "...                                                   ...   ...\n",
       "130308                         forcibly remove foreigners     1\n",
       "130309                         forcibly remove immigrants     1\n",
       "130310                          dalits unworthy gods love     1\n",
       "130311                                   dalits worthless     1\n",
       "130312                    dalits deserves treated lowlife     1\n",
       "\n",
       "[130313 rows x 2 columns]"
      ]
     },
     "execution_count": 16,
     "metadata": {},
     "output_type": "execute_result"
    }
   ],
   "source": [
    "dataset = pd.concat([df1, df2], axis = 0)\n",
    "dataset = pd.concat([dataset, df3], axis = 0)\n",
    "dataset = pd.concat([dataset, df4], axis = 0)\n",
    "dataset.text = dataset.apply(preprocess_tweet, axis=1)\n",
    "dataset.text = dataset.apply(stopword_removal, axis=1)\n",
    "dataset['text'] = dataset['text'].str.lower().str.replace('[^\\w\\s]',' ').str.replace('\\s\\s+', ' ')\n",
    "dataset = dataset.drop_duplicates(['text'])\n",
    "dataset = dataset.dropna().reset_index()\n",
    "dataset = dataset[['text', 'label']]\n",
    "dataset"
   ]
  },
  {
   "cell_type": "code",
   "execution_count": 17,
   "metadata": {
    "id": "YyjL9EJGGz9y"
   },
   "outputs": [],
   "source": [
    "dataset.to_csv('../datasets/merged.csv')"
   ]
  }
 ],
 "metadata": {
  "colab": {
   "provenance": []
  },
  "kernelspec": {
   "display_name": "Python 3 (ipykernel)",
   "language": "python",
   "name": "python3"
  },
  "language_info": {
   "codemirror_mode": {
    "name": "ipython",
    "version": 3
   },
   "file_extension": ".py",
   "mimetype": "text/x-python",
   "name": "python",
   "nbconvert_exporter": "python",
   "pygments_lexer": "ipython3",
   "version": "3.11.3"
  }
 },
 "nbformat": 4,
 "nbformat_minor": 1
}
